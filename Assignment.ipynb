{
 "cells": [
  {
   "cell_type": "code",
   "execution_count": 2,
   "metadata": {},
   "outputs": [
    {
     "name": "stdout",
     "output_type": "stream",
     "text": [
      "Collecting appdirs==1.4.3 (from -r requirements.txt (line 1))\n",
      "  Downloading https://files.pythonhosted.org/packages/56/eb/810e700ed1349edde4cbdc1b2a21e28cdf115f9faf263f6bbf8447c1abf3/appdirs-1.4.3-py2.py3-none-any.whl\n",
      "Requirement already satisfied: attrs==18.2.0 in /opt/conda/lib/python3.7/site-packages (from -r requirements.txt (line 2)) (18.2.0)\n",
      "Collecting autoflake==1.2 (from -r requirements.txt (line 3))\n",
      "  Downloading https://files.pythonhosted.org/packages/a7/ea/d7a9d7cab45ff2c17b059366de4e82bdef6e2c3a50ca7ab856c867b22f2d/autoflake-1.2.tar.gz\n",
      "Collecting black==18.9b0 (from -r requirements.txt (line 4))\n",
      "\u001b[?25l  Downloading https://files.pythonhosted.org/packages/2a/34/9938749f260a861cdd8427d63899e08f9a2a041159a26c2615b02828c973/black-18.9b0-py36-none-any.whl (88kB)\n",
      "\u001b[K    100% |████████████████████████████████| 92kB 6.5MB/s ta 0:00:011\n",
      "\u001b[?25hCollecting Click==7.0 (from -r requirements.txt (line 5))\n",
      "\u001b[?25l  Downloading https://files.pythonhosted.org/packages/fa/37/45185cb5abbc30d7257104c434fe0b07e5a195a6847506c074527aa599ec/Click-7.0-py2.py3-none-any.whl (81kB)\n",
      "\u001b[K    100% |████████████████████████████████| 81kB 3.6MB/s ta 0:00:011\n",
      "\u001b[?25hCollecting isort==4.3.4 (from -r requirements.txt (line 6))\n",
      "\u001b[?25l  Downloading https://files.pythonhosted.org/packages/1f/2c/22eee714d7199ae0464beda6ad5fedec8fee6a2f7ffd1e8f1840928fe318/isort-4.3.4-py3-none-any.whl (45kB)\n",
      "\u001b[K    100% |████████████████████████████████| 51kB 7.3MB/s ta 0:00:011\n",
      "\u001b[?25hCollecting mypy==0.650 (from -r requirements.txt (line 7))\n",
      "\u001b[?25l  Downloading https://files.pythonhosted.org/packages/d4/5d/769e126ad436311f83086fb8aa5368fe61655f570b334c33158a34173fea/mypy-0.650-py3-none-any.whl (1.4MB)\n",
      "\u001b[K    100% |████████████████████████████████| 1.4MB 7.4MB/s eta 0:00:01\n",
      "\u001b[?25hCollecting mypy-extensions==0.4.1 (from -r requirements.txt (line 8))\n",
      "  Downloading https://files.pythonhosted.org/packages/4d/72/8d54e2b296631b9b14961d583e56e90d9d7fba8a240d5ce7f1113cc5e887/mypy_extensions-0.4.1-py2.py3-none-any.whl\n",
      "Collecting pydantic==0.18 (from -r requirements.txt (line 9))\n",
      "  Downloading https://files.pythonhosted.org/packages/90/61/6d5aba56dc2a3550cfc3997a7e591cc6663d98fb2517cff238374414b41e/pydantic-0.18.tar.gz\n",
      "Collecting pyflakes==2.0.0 (from -r requirements.txt (line 10))\n",
      "\u001b[?25l  Downloading https://files.pythonhosted.org/packages/44/98/af7a72c9a543b1487d92813c648cb9b9adfbc96faef5455d60f4439aa99b/pyflakes-2.0.0-py2.py3-none-any.whl (53kB)\n",
      "\u001b[K    100% |████████████████████████████████| 61kB 3.8MB/s ta 0:00:011\n",
      "\u001b[?25hCollecting toml==0.10.0 (from -r requirements.txt (line 11))\n",
      "  Downloading https://files.pythonhosted.org/packages/a2/12/ced7105d2de62fa7c8fb5fce92cc4ce66b57c95fb875e9318dba7f8c5db0/toml-0.10.0-py2.py3-none-any.whl\n",
      "Collecting typed-ast==1.1.2 (from -r requirements.txt (line 12))\n",
      "\u001b[?25l  Downloading https://files.pythonhosted.org/packages/af/21/c242b91256022ccc2cffe26eacde399c605c4bc4a42909d182acba99f209/typed_ast-1.1.2-cp37-cp37m-manylinux1_x86_64.whl (722kB)\n",
      "\u001b[K    100% |████████████████████████████████| 727kB 2.1MB/s ta 0:00:01    82% |██████████████████████████▎     | 593kB 2.0MB/s eta 0:00:01    99% |███████████████████████████████▊| 716kB 2.0MB/s eta 0:00:01\n",
      "\u001b[?25hCollecting typing-extensions==3.7.2 (from -r requirements.txt (line 13))\n",
      "  Downloading https://files.pythonhosted.org/packages/0f/62/c66e553258c37c33f9939abb2dd8d2481803d860ff68e635466f12aa7efa/typing_extensions-3.7.2-py3-none-any.whl\n",
      "Collecting ulid-py==0.0.9 (from -r requirements.txt (line 14))\n",
      "  Downloading https://files.pythonhosted.org/packages/a5/dc/be79bff452a0f456d00134d03c34556180c6f0ce0a53685c78457b92ee55/ulid_py-0.0.9-py2.py3-none-any.whl\n",
      "Building wheels for collected packages: autoflake, pydantic\n",
      "  Running setup.py bdist_wheel for autoflake ... \u001b[?25ldone\n",
      "\u001b[?25h  Stored in directory: /home/jovyan/.cache/pip/wheels/36/79/1f/1b3e00f5ac88e07103c047d6071095d585162dbf1b3c126125\n",
      "  Running setup.py bdist_wheel for pydantic ... \u001b[?25ldone\n",
      "\u001b[?25h  Stored in directory: /home/jovyan/.cache/pip/wheels/3c/bc/e8/6a3a16ff76689fde8cc4fecd5246621eafe83be6366d68400a\n",
      "Successfully built autoflake pydantic\n",
      "Installing collected packages: appdirs, pyflakes, autoflake, toml, Click, black, isort, mypy-extensions, typed-ast, mypy, pydantic, typing-extensions, ulid-py\n",
      "Successfully installed Click-7.0 appdirs-1.4.3 autoflake-1.2 black-18.9b0 isort-4.3.4 mypy-0.650 mypy-extensions-0.4.1 pydantic-0.18 pyflakes-2.0.0 toml-0.10.0 typed-ast-1.1.2 typing-extensions-3.7.2 ulid-py-0.0.9\n"
     ]
    }
   ],
   "source": [
    "!pip install -r requirements.txt"
   ]
  },
  {
   "cell_type": "code",
   "execution_count": 3,
   "metadata": {},
   "outputs": [],
   "source": [
    "from sigid.mock_asset_service import MockAssetService\n",
    "from sigid.mock_signature_repository import MockSignatureRepository\n",
    "from sigid.mock_signee_repository import MockSigneeRepository\n",
    "from sigid.service import (\n",
    "    AnyNewSignature,\n",
    "    NewImageSignature,\n",
    "    NewXYZSignature,\n",
    "    SignatureApplicationService,\n",
    ")"
   ]
  },
  {
   "cell_type": "code",
   "execution_count": 4,
   "metadata": {},
   "outputs": [],
   "source": [
    "# 1. Initialise mock data stores\n",
    "signee_repository = MockSigneeRepository()\n",
    "signature_repository = MockSignatureRepository()\n",
    "\n",
    "# 2. Initialise mock asset service\n",
    "asset_service = MockAssetService()\n",
    "\n",
    "# 3. Initialise main application service\n",
    "# (this is essentially the interface to the data warehouse)\n",
    "application = SignatureApplicationService(\n",
    "    signee_repository=signee_repository,\n",
    "    signature_repository=signature_repository,\n",
    "    asset_service=asset_service,\n",
    ")\n"
   ]
  },
  {
   "cell_type": "code",
   "execution_count": 5,
   "metadata": {},
   "outputs": [],
   "source": [
    "# TODO: implement ETL script / program which calls `application.register_signatures(..)` with extracted,\n",
    "# and transformed datasets, starting with SOURCE_A"
   ]
  },
  {
   "cell_type": "code",
   "execution_count": null,
   "metadata": {},
   "outputs": [],
   "source": []
  }
 ],
 "metadata": {
  "kernelspec": {
   "display_name": "Python 3",
   "language": "python",
   "name": "python3"
  },
  "language_info": {
   "codemirror_mode": {
    "name": "ipython",
    "version": 3
   },
   "file_extension": ".py",
   "mimetype": "text/x-python",
   "name": "python",
   "nbconvert_exporter": "python",
   "pygments_lexer": "ipython3",
   "version": "3.7.1"
  }
 },
 "nbformat": 4,
 "nbformat_minor": 1
}
